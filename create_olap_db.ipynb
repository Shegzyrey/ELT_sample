{
 "cells": [
  {
   "cell_type": "code",
   "execution_count": 1,
   "metadata": {},
   "outputs": [],
   "source": [
    "import psycopg2"
   ]
  },
  {
   "cell_type": "code",
   "execution_count": 4,
   "metadata": {},
   "outputs": [],
   "source": [
    "#establishing the connection\n",
    "conn = psycopg2.connect(\n",
    "   database=\"postgres\", user='postgres', password='Root123$', host='127.0.0.1', port= '5432'\n",
    ")\n",
    "conn.autocommit = True\n",
    "\n",
    "#Creating a cursor object using the cursor() method\n",
    "cursor = conn.cursor()\n"
   ]
  },
  {
   "cell_type": "code",
   "execution_count": 12,
   "metadata": {},
   "outputs": [
    {
     "name": "stdout",
     "output_type": "stream",
     "text": [
      "Tables created successfully........\n"
     ]
    }
   ],
   "source": [
    "sql_dim_film = '''\n",
    "CREATE TABLE IF NOT EXISTS olap_schema.dim_film AS \n",
    "SELECT DISTINCT film_id,\n",
    "       title, \n",
    "       release_year, \n",
    "       length as duration,\n",
    "       last_update\n",
    "FROM oltp_schema.film\n",
    "'''\n",
    "\n",
    "sql_dim_customer = ''' \n",
    "CREATE TABLE IF NOT EXISTS olap_schema.dim_customer AS \n",
    "SELECT customer_id, first_name ||' '|| last_name AS customer_name,\n",
    "       email, create_date, last_update\n",
    "FROM oltp_schema.customer\n",
    "'''\n",
    "\n",
    "\n",
    "sql_dim_staff = ''' \n",
    "CREATE TABLE IF NOT EXISTS olap_schema.dim_staff AS \n",
    "SELECT DISTINCT staff_id, first_name ||' '|| last_name AS staff_name,\n",
    "       email, last_update\n",
    "FROM oltp_schema.staff\n",
    "'''\n",
    "\n",
    "sql_dim_date = '''\n",
    "CREATE TABLE IF NOT EXISTS olap_schema.dim_date AS \n",
    "SELECT TO_CHAR(ax.payment_date, 'YYYYMMDD') date_id,\n",
    "        CAST(TO_CHAR(ax.payment_date, 'YYYY-MM-DD') AS DATE) date_,\n",
    "       TO_CHAR(ax.payment_date, 'YYYY') year_,\n",
    "       TO_CHAR(ax.payment_date, 'Q') quarter_,\n",
    "       TO_CHAR(ax.payment_date, 'MON') month_,\n",
    "       TO_CHAR(ax.payment_date, 'DD') day_of_week,\n",
    "       TO_CHAR(ax.payment_date, 'IW') week_of_year\n",
    "FROM oltp_schema.payment AX\n",
    "'''\n",
    "\n",
    "sql_fact_transaction = '''\n",
    "CREATE TABLE if not exists olap_schema.fact_transacion AS\n",
    "SELECT DISTINCT bx.customer_id,\n",
    "       cx.staff_id, dx.rental_id,\n",
    "       TO_CHAR(ax.payment_date, 'YYYYMMDD') date_id,\n",
    "       SUM(ax.amount) total_revenue,\n",
    "       AVG(ax.amount) avg_revenue\n",
    "FROM oltp_schema.payment AX\n",
    "LEFT JOIN oltp_schema.customer BX ON bx.customer_id = ax.customer_id\n",
    "LEFT JOIN oltp_schema.staff CX ON cx.staff_id = ax.customer_id\n",
    "LEFT JOIN oltp_schema.rental DX ON dx.rental_id = ax.customer_id\n",
    "GROUP BY ax.payment_id, bx.customer_id,\n",
    "         cx.staff_id, dx.rental_id,\n",
    "         TO_CHAR(ax.payment_date, 'YYYYMMDD')\n",
    "'''\n",
    "\n",
    "cursor.execute(sql_dim_film)\n",
    "cursor.execute(sql_dim_customer)\n",
    "cursor.execute(sql_dim_staff)\n",
    "cursor.execute(sql_dim_date)\n",
    "cursor.execute(sql_fact_transaction)\n",
    "\n",
    "print(\"Tables created successfully........\")\n",
    "\n",
    "conn.commit()\n"
   ]
  }
 ],
 "metadata": {
  "kernelspec": {
   "display_name": "Python 3",
   "language": "python",
   "name": "python3"
  },
  "language_info": {
   "codemirror_mode": {
    "name": "ipython",
    "version": 3
   },
   "file_extension": ".py",
   "mimetype": "text/x-python",
   "name": "python",
   "nbconvert_exporter": "python",
   "pygments_lexer": "ipython3",
   "version": "3.11.3"
  }
 },
 "nbformat": 4,
 "nbformat_minor": 2
}
