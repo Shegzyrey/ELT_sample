{
 "cells": [
  {
   "cell_type": "code",
   "execution_count": 6,
   "metadata": {},
   "outputs": [],
   "source": [
    "import psycopg2\n",
    "\n",
    "from faker import Faker\n",
    "\n",
    "fake = Faker()"
   ]
  },
  {
   "cell_type": "code",
   "execution_count": 10,
   "metadata": {},
   "outputs": [],
   "source": [
    "#establishing the connection\n",
    "conn = psycopg2.connect(\n",
    "   database=\"pagila_oltp\", user='postgres', password='Root123$', host='127.0.0.1', port= '5432'\n",
    ")\n",
    "conn.autocommit = True\n",
    "\n",
    "#Creating a cursor object using the cursor() method\n",
    "cursor = conn.cursor()"
   ]
  },
  {
   "cell_type": "code",
   "execution_count": 16,
   "metadata": {},
   "outputs": [],
   "source": [
    "## Populate customer table\n",
    "for i in range(10):\n",
    "    # store_id = fake.random_number(10)\n",
    "    # address = fake.address()\n",
    "    \n",
    "    customer_id = fake.random_number(10)\n",
    "    first_name = fake.unique.first_name()\n",
    "    last_name = fake.unique.last_name()\n",
    "    email = fake.email()\n",
    "    create_date = fake.DATE()\n",
    "    last_update  = fake.timestamp()\n",
    "\n",
    "# create INSERT SQL statement\n",
    "    sql = \"INSERT INTO stores (customer_id, first_name, last_name, email, create_date, last_update) \\\n",
    "    VALUES ('{}', '{}', '{}', '{}', '{}')\".format(store_id, address)\n",
    "\n",
    "    cursor.execute(sql)\n",
    "    #print(\"Successfully........\")\n"
   ]
  }
 ],
 "metadata": {
  "kernelspec": {
   "display_name": "Python 3",
   "language": "python",
   "name": "python3"
  },
  "language_info": {
   "codemirror_mode": {
    "name": "ipython",
    "version": 3
   },
   "file_extension": ".py",
   "mimetype": "text/x-python",
   "name": "python",
   "nbconvert_exporter": "python",
   "pygments_lexer": "ipython3",
   "version": "3.11.3"
  }
 },
 "nbformat": 4,
 "nbformat_minor": 2
}
