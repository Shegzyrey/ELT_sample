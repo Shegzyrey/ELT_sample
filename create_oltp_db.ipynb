{
 "cells": [
  {
   "cell_type": "markdown",
   "metadata": {},
   "source": [
    "#### Create OLTP DB"
   ]
  },
  {
   "cell_type": "code",
   "execution_count": 1,
   "metadata": {},
   "outputs": [],
   "source": [
    "import psycopg2"
   ]
  },
  {
   "cell_type": "code",
   "execution_count": 2,
   "metadata": {},
   "outputs": [],
   "source": [
    "#establishing the connection\n",
    "conn = psycopg2.connect(\n",
    "   database=\"pagila_oltp\", user='postgres', password='Root123$', host='127.0.0.1', port= '5432'\n",
    ")\n",
    "conn.autocommit = True\n",
    "\n",
    "#Creating a cursor object using the cursor() method\n",
    "cursor = conn.cursor()\n",
    "\n",
    "# #Preparing query to create a database\n",
    "# sql = '''CREATE DATABASE pagila_oltp''';\n",
    "\n",
    "# #Creating a database\n",
    "# cursor.execute(sql)\n",
    "# print(\"Database created successfully........\")\n",
    "\n",
    "# # #Closing the connection\n",
    "# # conn.close()"
   ]
  },
  {
   "cell_type": "markdown",
   "metadata": {},
   "source": [
    "#### Create Tables"
   ]
  },
  {
   "cell_type": "code",
   "execution_count": 13,
   "metadata": {},
   "outputs": [
    {
     "name": "stdout",
     "output_type": "stream",
     "text": [
      "Tables created successfully........\n"
     ]
    }
   ],
   "source": [
    "#Creating table as per requirement\n",
    "sql_customer_tbl ='''\n",
    "CREATE TABLE IF NOT EXISTS customer (\n",
    "    customer_id INT NOT NULL,\n",
    "    first_name character varying(45) NOT NULL,\n",
    "    last_name character varying(45) NOT NULL,\n",
    "    email character varying(50),\n",
    "    create_date date DEFAULT ('now'::text)::date NOT NULL,\n",
    "    last_update timestamp without time zone DEFAULT now(),\n",
    "\tPRIMARY KEY (customer_id)\n",
    ")\n",
    "'''\n",
    "\n",
    "sql_staff_tbl = '''\n",
    "CREATE TABLE IF NOT EXISTS staff (\n",
    "    staff_id INT NOT NULL,\n",
    "    first_name character varying(45) NOT NULL,\n",
    "    last_name character varying(45) NOT NULL,\n",
    "    email character varying(50),\n",
    "    last_update timestamp without time zone DEFAULT now() NOT NULL,\n",
    "\tPRIMARY KEY (staff_id)\n",
    ")\n",
    "'''\n",
    "\n",
    "sql_film_tbl = '''\n",
    "CREATE TABLE IF NOT EXISTS film (\n",
    "    film_id INT NOT NULL,\n",
    "    title character varying(255) NOT NULL,\n",
    "    description text,\n",
    "    release_year DATE NOT NULL DEFAULT CURRENT_DATE,\n",
    "    original_language_id smallint,\n",
    "    rental_duration smallint DEFAULT 3 NOT NULL,\n",
    "    rental_rate numeric(4,2) DEFAULT 4.99 NOT NULL,\n",
    "    length smallint,\n",
    "    replacement_cost numeric(5,2) DEFAULT 19.99 NOT NULL,\n",
    "    last_update timestamp without time zone DEFAULT now() NOT NULL,\n",
    "\tPRIMARY KEY (film_id)\n",
    ") '''\n",
    "\n",
    "\n",
    "sql_inventory_tbl =  '''\n",
    "CREATE TABLE IF NOT EXISTS inventory (\n",
    "    inventory_id INT NOT NULL,\n",
    "    film_id smallint NOT NULL,\n",
    "    last_update timestamp without time zone DEFAULT now() NOT NULL,\n",
    "\tPRIMARY KEY (inventory_id),\n",
    "\tFOREIGN KEY (film_id) REFERENCES film (film_id)\n",
    ")\n",
    "'''\n",
    "\n",
    "sql_rental_tbl = '''\n",
    "CREATE TABLE IF NOT EXISTS rental (\n",
    "    rental_id INT NOT NULL,\n",
    "    rental_date timestamp without time zone NOT NULL,\n",
    "    inventory_id INT NOT NULL,\n",
    "    customer_id INT NOT NULL,\n",
    "    return_date timestamp without time zone,\n",
    "    staff_id INT NOT NULL,\n",
    "    last_update timestamp without time zone DEFAULT now() NOT NULL,\n",
    "\tPRIMARY KEY (rental_id),\n",
    "\tFOREIGN KEY (inventory_id) REFERENCES inventory (inventory_id),\n",
    "\tFOREIGN KEY (customer_id)  REFERENCES customer (customer_id),\n",
    "\tFOREIGN KEY (staff_id)     REFERENCES staff (staff_id)\n",
    ")\n",
    "'''\n",
    "\n",
    "sql_payment_tbl = '''\n",
    "CREATE TABLE IF NOT EXISTS payment (\n",
    "    payment_id INT NOT NULL,\n",
    "    customer_id integer NOT NULL,\n",
    "    staff_id integer NOT NULL,\n",
    "    rental_id integer NOT NULL,\n",
    "    amount numeric(5,2) NOT NULL,\n",
    "    payment_date timestamp without time zone NOT NULL,\n",
    "    PRIMARY KEY (payment_id),\n",
    "\tFOREIGN KEY (staff_id)     REFERENCES staff (staff_id),\n",
    " \tFOREIGN KEY (customer_id)  REFERENCES customer (customer_id),\n",
    "\tFOREIGN KEY (rental_id)    REFERENCES rental (rental_id)\n",
    ")\n",
    "'''\n",
    "\n",
    "cursor.execute(sql_customer_tbl)\n",
    "cursor.execute(sql_staff_tbl)\n",
    "cursor.execute(sql_film_tbl)\n",
    "cursor.execute(sql_inventory_tbl)\n",
    "cursor.execute(sql_rental_tbl)\n",
    "cursor.execute(sql_payment_tbl)\n",
    "print(\"Tables created successfully........\")\n",
    "\n",
    "conn.commit()\n",
    "\n",
    "#Closing the connection\n",
    "#conn.close()\n"
   ]
  }
 ],
 "metadata": {
  "kernelspec": {
   "display_name": "base",
   "language": "python",
   "name": "python3"
  },
  "language_info": {
   "codemirror_mode": {
    "name": "ipython",
    "version": 3
   },
   "file_extension": ".py",
   "mimetype": "text/x-python",
   "name": "python",
   "nbconvert_exporter": "python",
   "pygments_lexer": "ipython3",
   "version": "3.9.12"
  }
 },
 "nbformat": 4,
 "nbformat_minor": 2
}
